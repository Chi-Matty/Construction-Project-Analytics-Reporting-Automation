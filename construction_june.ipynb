{
 "cells": [
  {
   "cell_type": "code",
   "execution_count": 83,
   "metadata": {},
   "outputs": [],
   "source": [
    "import pandas as pd\n",
    "import matplotlib.pyplot as plt\n",
    "from io import StringIO\n",
    "import numpy as np\n",
    "from datetime import datetime\n",
    "import seaborn as sns"
   ]
  },
  {
   "cell_type": "code",
   "execution_count": 84,
   "metadata": {},
   "outputs": [
    {
     "data": {
      "text/html": [
       "<div>\n",
       "<style scoped>\n",
       "    .dataframe tbody tr th:only-of-type {\n",
       "        vertical-align: middle;\n",
       "    }\n",
       "\n",
       "    .dataframe tbody tr th {\n",
       "        vertical-align: top;\n",
       "    }\n",
       "\n",
       "    .dataframe thead th {\n",
       "        text-align: right;\n",
       "    }\n",
       "</style>\n",
       "<table border=\"1\" class=\"dataframe\">\n",
       "  <thead>\n",
       "    <tr style=\"text-align: right;\">\n",
       "      <th></th>\n",
       "      <th>Project ID</th>\n",
       "      <th>Site Location</th>\n",
       "      <th>Project Status</th>\n",
       "      <th>Material Cost</th>\n",
       "      <th>Labor Hours</th>\n",
       "      <th>Project Progress</th>\n",
       "      <th>Report Date</th>\n",
       "    </tr>\n",
       "  </thead>\n",
       "  <tbody>\n",
       "    <tr>\n",
       "      <th>0</th>\n",
       "      <td>P001</td>\n",
       "      <td>Site A</td>\n",
       "      <td>In Progress</td>\n",
       "      <td>150000.0</td>\n",
       "      <td>2500.0</td>\n",
       "      <td>75%</td>\n",
       "      <td>2024-01-15</td>\n",
       "    </tr>\n",
       "    <tr>\n",
       "      <th>1</th>\n",
       "      <td>P002</td>\n",
       "      <td>Site B</td>\n",
       "      <td>Completed</td>\n",
       "      <td>120000.0</td>\n",
       "      <td>1800.0</td>\n",
       "      <td>100%</td>\n",
       "      <td>2023-12-01</td>\n",
       "    </tr>\n",
       "    <tr>\n",
       "      <th>2</th>\n",
       "      <td>P003</td>\n",
       "      <td>Site C</td>\n",
       "      <td>Delayed</td>\n",
       "      <td>200000.0</td>\n",
       "      <td>3000.0</td>\n",
       "      <td>50%</td>\n",
       "      <td>2024-01-20</td>\n",
       "    </tr>\n",
       "    <tr>\n",
       "      <th>3</th>\n",
       "      <td>P004</td>\n",
       "      <td>Site A</td>\n",
       "      <td>In Progress</td>\n",
       "      <td>160000.0</td>\n",
       "      <td>2600.0</td>\n",
       "      <td>80%</td>\n",
       "      <td>2024-01-20</td>\n",
       "    </tr>\n",
       "    <tr>\n",
       "      <th>4</th>\n",
       "      <td>P005</td>\n",
       "      <td>Site D</td>\n",
       "      <td>Completed</td>\n",
       "      <td>110000.0</td>\n",
       "      <td>1700.0</td>\n",
       "      <td>100%</td>\n",
       "      <td>2023-11-15</td>\n",
       "    </tr>\n",
       "  </tbody>\n",
       "</table>\n",
       "</div>"
      ],
      "text/plain": [
       "  Project ID Site Location Project Status  Material Cost  Labor Hours  \\\n",
       "0       P001        Site A    In Progress       150000.0       2500.0   \n",
       "1       P002        Site B      Completed       120000.0       1800.0   \n",
       "2       P003        Site C        Delayed       200000.0       3000.0   \n",
       "3       P004        Site A    In Progress       160000.0       2600.0   \n",
       "4       P005        Site D      Completed       110000.0       1700.0   \n",
       "\n",
       "  Project Progress Report Date  \n",
       "0              75%  2024-01-15  \n",
       "1             100%  2023-12-01  \n",
       "2              50%  2024-01-20  \n",
       "3              80%  2024-01-20  \n",
       "4             100%  2023-11-15  "
      ]
     },
     "execution_count": 84,
     "metadata": {},
     "output_type": "execute_result"
    }
   ],
   "source": [
    "df = pd.read_csv('construction_project_status 2.csv')\n",
    "df.head()"
   ]
  },
  {
   "cell_type": "code",
   "execution_count": 85,
   "metadata": {},
   "outputs": [],
   "source": [
    "dfs = df.copy()\n",
    "dfs.rename(columns={\n",
    "    'Project ID': 'Project_ID',\n",
    "    'Site Location': 'Site_Location',\n",
    "    'Project Status': 'Project_Status',\n",
    "    'Material Cost': 'Material_Cost',\n",
    "    'Labor Hours': 'Labor_Hours',\n",
    "    'Project Progress': 'Project_Progress', \n",
    "    'Report Date': 'Report_Date'\n",
    "}, inplace=True)"
   ]
  },
  {
   "cell_type": "markdown",
   "metadata": {},
   "source": [
    "#### Removing duplicates in IDs"
   ]
  },
  {
   "cell_type": "code",
   "execution_count": 86,
   "metadata": {},
   "outputs": [],
   "source": [
    "dfs.drop_duplicates(subset=['Project_ID'], inplace=True)"
   ]
  },
  {
   "cell_type": "markdown",
   "metadata": {},
   "source": [
    "#### Replacing missing values/NAs in Materia cost and Labor hours with mean values"
   ]
  },
  {
   "cell_type": "code",
   "execution_count": 87,
   "metadata": {},
   "outputs": [],
   "source": [
    "dfs.replace(['NA', 'NaN', 'Missing', 'Null', 'null'], np.nan, inplace=True)\n",
    "dfs['Material_Cost'] = dfs['Material_Cost'].fillna(dfs['Material_Cost'].mean())\n",
    "dfs['Labor_Hours'] = dfs['Labor_Hours'].fillna(dfs['Labor_Hours'].mean())"
   ]
  },
  {
   "cell_type": "markdown",
   "metadata": {},
   "source": [
    "#### Converting to appropriate data type"
   ]
  },
  {
   "cell_type": "code",
   "execution_count": 88,
   "metadata": {},
   "outputs": [
    {
     "data": {
      "text/html": [
       "<div>\n",
       "<style scoped>\n",
       "    .dataframe tbody tr th:only-of-type {\n",
       "        vertical-align: middle;\n",
       "    }\n",
       "\n",
       "    .dataframe tbody tr th {\n",
       "        vertical-align: top;\n",
       "    }\n",
       "\n",
       "    .dataframe thead th {\n",
       "        text-align: right;\n",
       "    }\n",
       "</style>\n",
       "<table border=\"1\" class=\"dataframe\">\n",
       "  <thead>\n",
       "    <tr style=\"text-align: right;\">\n",
       "      <th></th>\n",
       "      <th>Project_ID</th>\n",
       "      <th>Site_Location</th>\n",
       "      <th>Project_Status</th>\n",
       "      <th>Material_Cost</th>\n",
       "      <th>Labor_Hours</th>\n",
       "      <th>Project_Progress</th>\n",
       "      <th>Report_Date</th>\n",
       "      <th>Project_Progress_New</th>\n",
       "    </tr>\n",
       "  </thead>\n",
       "  <tbody>\n",
       "    <tr>\n",
       "      <th>0</th>\n",
       "      <td>P001</td>\n",
       "      <td>Site A</td>\n",
       "      <td>In Progress</td>\n",
       "      <td>150000.0</td>\n",
       "      <td>2500.0</td>\n",
       "      <td>75%</td>\n",
       "      <td>2024-01-15</td>\n",
       "      <td>75.0</td>\n",
       "    </tr>\n",
       "    <tr>\n",
       "      <th>1</th>\n",
       "      <td>P002</td>\n",
       "      <td>Site B</td>\n",
       "      <td>Completed</td>\n",
       "      <td>120000.0</td>\n",
       "      <td>1800.0</td>\n",
       "      <td>100%</td>\n",
       "      <td>2023-12-01</td>\n",
       "      <td>100.0</td>\n",
       "    </tr>\n",
       "    <tr>\n",
       "      <th>2</th>\n",
       "      <td>P003</td>\n",
       "      <td>Site C</td>\n",
       "      <td>Delayed</td>\n",
       "      <td>200000.0</td>\n",
       "      <td>3000.0</td>\n",
       "      <td>50%</td>\n",
       "      <td>2024-01-20</td>\n",
       "      <td>50.0</td>\n",
       "    </tr>\n",
       "  </tbody>\n",
       "</table>\n",
       "</div>"
      ],
      "text/plain": [
       "  Project_ID Site_Location Project_Status  Material_Cost  Labor_Hours  \\\n",
       "0       P001        Site A    In Progress       150000.0       2500.0   \n",
       "1       P002        Site B      Completed       120000.0       1800.0   \n",
       "2       P003        Site C        Delayed       200000.0       3000.0   \n",
       "\n",
       "  Project_Progress Report_Date  Project_Progress_New  \n",
       "0              75%  2024-01-15                  75.0  \n",
       "1             100%  2023-12-01                 100.0  \n",
       "2              50%  2024-01-20                  50.0  "
      ]
     },
     "execution_count": 88,
     "metadata": {},
     "output_type": "execute_result"
    }
   ],
   "source": [
    "dfs['Report_Date'] = pd.to_datetime(dfs['Report_Date'])\n",
    "dfs['Project_Progress_New'] = dfs['Project_Progress'].str.rstrip('%').astype(float)\n",
    "dfs.head(3)"
   ]
  },
  {
   "cell_type": "markdown",
   "metadata": {},
   "source": [
    "#### Standardized Text Data"
   ]
  },
  {
   "cell_type": "code",
   "execution_count": 89,
   "metadata": {},
   "outputs": [],
   "source": [
    "dfs['Project_Status'] = dfs['Project_Status'].str.title()"
   ]
  },
  {
   "cell_type": "code",
   "execution_count": 90,
   "metadata": {},
   "outputs": [
    {
     "data": {
      "text/plain": [
       "array(['In Progress', 'Completed', 'Delayed'], dtype=object)"
      ]
     },
     "execution_count": 90,
     "metadata": {},
     "output_type": "execute_result"
    }
   ],
   "source": [
    "dfs['Project_Status'].unique()"
   ]
  },
  {
   "cell_type": "code",
   "execution_count": 91,
   "metadata": {},
   "outputs": [
    {
     "name": "stdout",
     "output_type": "stream",
     "text": [
      "There are no outliers\n"
     ]
    },
    {
     "data": {
      "image/png": "[encoded data removed]",
      "text/plain": [
       "<Figure size 800x300 with 1 Axes>"
      ]
     },
     "metadata": {},
     "output_type": "display_data"
    },
    {
     "data": {
      "image/png": "[encoded data removed]",
      "text/plain": [
       "<Figure size 800x300 with 1 Axes>"
      ]
     },
     "metadata": {},
     "output_type": "display_data"
    },
    {
     "data": {
      "image/png": "[encoded data removed]",
      "text/plain": [
       "<Figure size 800x300 with 1 Axes>"
      ]
     },
     "metadata": {},
     "output_type": "display_data"
    }
   ],
   "source": [
    "print('There are no outliers')\n",
    "# Boxplot for Material Cost\n",
    "plt.figure(figsize=(8, 3))\n",
    "sns.boxplot(x=dfs['Material_Cost'])\n",
    "plt.title('Boxplot of Material Cost')\n",
    "plt.xlabel('Material Cost')\n",
    "plt.show()\n",
    "\n",
    "# Boxplot for Labor Hours\n",
    "plt.figure(figsize=(8, 3))\n",
    "sns.boxplot(x=dfs['Labor_Hours'])\n",
    "plt.title('Boxplot of Labor Hours')\n",
    "plt.xlabel('Labor Hours')\n",
    "plt.show()\n",
    "\n",
    "# Boxplot for Project Progress\n",
    "plt.figure(figsize=(8, 3))\n",
    "sns.boxplot(x=dfs['Project_Progress_New'])\n",
    "plt.title('Boxplot of Project Progress (%)')\n",
    "plt.xlabel('Project Progress (%)')\n",
    "plt.show()"
   ]
  },
  {
   "cell_type": "markdown",
   "metadata": {},
   "source": [
    "#### Cost Efficiency: Which 'Site Location' has the highest average 'Material Cost' per project, and which has the lowest?"
   ]
  },
  {
   "cell_type": "code",
   "execution_count": 92,
   "metadata": {},
   "outputs": [
    {
     "data": {
      "text/html": [
       "<div>\n",
       "<style scoped>\n",
       "    .dataframe tbody tr th:only-of-type {\n",
       "        vertical-align: middle;\n",
       "    }\n",
       "\n",
       "    .dataframe tbody tr th {\n",
       "        vertical-align: top;\n",
       "    }\n",
       "\n",
       "    .dataframe thead th {\n",
       "        text-align: right;\n",
       "    }\n",
       "</style>\n",
       "<table border=\"1\" class=\"dataframe\">\n",
       "  <thead>\n",
       "    <tr style=\"text-align: right;\">\n",
       "      <th></th>\n",
       "      <th>Site Location</th>\n",
       "      <th>Average Material Cost</th>\n",
       "    </tr>\n",
       "  </thead>\n",
       "  <tbody>\n",
       "    <tr>\n",
       "      <th>0</th>\n",
       "      <td>Site H</td>\n",
       "      <td>285000.00</td>\n",
       "    </tr>\n",
       "    <tr>\n",
       "      <th>1</th>\n",
       "      <td>Site E</td>\n",
       "      <td>244615.38</td>\n",
       "    </tr>\n",
       "    <tr>\n",
       "      <th>2</th>\n",
       "      <td>Site C</td>\n",
       "      <td>224230.77</td>\n",
       "    </tr>\n",
       "    <tr>\n",
       "      <th>3</th>\n",
       "      <td>Site F</td>\n",
       "      <td>212083.33</td>\n",
       "    </tr>\n",
       "    <tr>\n",
       "      <th>4</th>\n",
       "      <td>Site A</td>\n",
       "      <td>185357.14</td>\n",
       "    </tr>\n",
       "    <tr>\n",
       "      <th>5</th>\n",
       "      <td>Site B</td>\n",
       "      <td>153324.92</td>\n",
       "    </tr>\n",
       "    <tr>\n",
       "      <th>6</th>\n",
       "      <td>Site D</td>\n",
       "      <td>132083.33</td>\n",
       "    </tr>\n",
       "    <tr>\n",
       "      <th>7</th>\n",
       "      <td>Site G</td>\n",
       "      <td>117500.00</td>\n",
       "    </tr>\n",
       "  </tbody>\n",
       "</table>\n",
       "</div>"
      ],
      "text/plain": [
       "  Site Location  Average Material Cost\n",
       "0        Site H              285000.00\n",
       "1        Site E              244615.38\n",
       "2        Site C              224230.77\n",
       "3        Site F              212083.33\n",
       "4        Site A              185357.14\n",
       "5        Site B              153324.92\n",
       "6        Site D              132083.33\n",
       "7        Site G              117500.00"
      ]
     },
     "execution_count": 92,
     "metadata": {},
     "output_type": "execute_result"
    }
   ],
   "source": [
    "average_mat_cost = dfs.groupby('Site_Location')['Material_Cost'].mean().sort_values(ascending=False).round(2)\n",
    "max_average_site = average_mat_cost.idxmax()\n",
    "max_cost = average_mat_cost.max()\n",
    "min_average_site = average_mat_cost.idxmin()\n",
    "min_cost = average_mat_cost.min()\n",
    "average_mat_cost\n",
    "average_mat_cost_df = average_mat_cost.reset_index()\n",
    "average_mat_cost_df.columns = ['Site Location', 'Average Material Cost']\n",
    "average_mat_cost_df"
   ]
  },
  {
   "cell_type": "code",
   "execution_count": 93,
   "metadata": {},
   "outputs": [
    {
     "name": "stdout",
     "output_type": "stream",
     "text": [
      "Site H has the highest average, spending 285000.0 while Site G has the lowest average, spending 117500.0\n"
     ]
    }
   ],
   "source": [
    "print(f\"{max_average_site} has the highest average, spending {max_cost} while {min_average_site} has the lowest average, spending {min_cost}\")"
   ]
  },
  {
   "cell_type": "code",
   "execution_count": 94,
   "metadata": {},
   "outputs": [
    {
     "data": {
      "image/png": "[encoded data removed]",
      "text/plain": [
       "<Figure size 1000x600 with 1 Axes>"
      ]
     },
     "metadata": {},
     "output_type": "display_data"
    }
   ],
   "source": [
    "plt.figure(figsize=(10, 6))\n",
    "sns.barplot(data=average_mat_cost_df, x='Site Location', y='Average Material Cost', hue='Site Location', palette='Blues_d', legend=False)\n",
    "\n",
    "plt.title('Average Material Cost by Site Location')\n",
    "plt.xlabel('Site Location')\n",
    "plt.ylabel('Average Material Cost')\n",
    "plt.xticks(rotation=45)\n",
    "plt.tight_layout()\n",
    "plt.show()"
   ]
  },
  {
   "cell_type": "markdown",
   "metadata": {},
   "source": [
    "#### Labor Utilization: Is there a correlation between 'Labor Hours' and 'Project Progress'"
   ]
  },
  {
   "cell_type": "code",
   "execution_count": 95,
   "metadata": {},
   "outputs": [
    {
     "name": "stdout",
     "output_type": "stream",
     "text": [
      "-0.36\n",
      "There is a negative correlation. as Labor Hours increase, Project Progress tends to decrease slightly\n"
     ]
    }
   ],
   "source": [
    "labour_project_corr = dfs['Labor_Hours'].corr(dfs['Project_Progress_New'])\n",
    "print(f\"{labour_project_corr:.2f}\")\n",
    "print('There is a negative correlation. as Labor Hours increase, Project Progress tends to decrease slightly')"
   ]
  },
  {
   "cell_type": "code",
   "execution_count": 96,
   "metadata": {},
   "outputs": [
    {
     "data": {
      "image/png": "[encoded data removed]",
      "text/plain": [
       "<Figure size 800x400 with 1 Axes>"
      ]
     },
     "metadata": {},
     "output_type": "display_data"
    }
   ],
   "source": [
    "plt.figure(figsize=(8,4))\n",
    "sns.regplot(x='Labor_Hours', y='Project_Progress_New', data=dfs)\n",
    "plt.title('Labour Hours Vs Project Progress')\n",
    "plt.xlabel('Labour hours')\n",
    "plt.ylabel('Project progress')\n",
    "plt.show()"
   ]
  },
  {
   "cell_type": "code",
   "execution_count": 97,
   "metadata": {},
   "outputs": [
    {
     "data": {
      "text/html": [
       "<div>\n",
       "<style scoped>\n",
       "    .dataframe tbody tr th:only-of-type {\n",
       "        vertical-align: middle;\n",
       "    }\n",
       "\n",
       "    .dataframe tbody tr th {\n",
       "        vertical-align: top;\n",
       "    }\n",
       "\n",
       "    .dataframe thead th {\n",
       "        text-align: right;\n",
       "    }\n",
       "</style>\n",
       "<table border=\"1\" class=\"dataframe\">\n",
       "  <thead>\n",
       "    <tr style=\"text-align: right;\">\n",
       "      <th></th>\n",
       "      <th>Project_ID</th>\n",
       "      <th>Site_Location</th>\n",
       "      <th>Project_Status</th>\n",
       "      <th>Material_Cost</th>\n",
       "      <th>Labor_Hours</th>\n",
       "      <th>Project_Progress</th>\n",
       "      <th>Report_Date</th>\n",
       "      <th>Project_Progress_New</th>\n",
       "    </tr>\n",
       "  </thead>\n",
       "  <tbody>\n",
       "    <tr>\n",
       "      <th>0</th>\n",
       "      <td>P001</td>\n",
       "      <td>Site A</td>\n",
       "      <td>In Progress</td>\n",
       "      <td>150000.0</td>\n",
       "      <td>2500.0</td>\n",
       "      <td>75%</td>\n",
       "      <td>2024-01-15</td>\n",
       "      <td>75.0</td>\n",
       "    </tr>\n",
       "    <tr>\n",
       "      <th>1</th>\n",
       "      <td>P002</td>\n",
       "      <td>Site B</td>\n",
       "      <td>Completed</td>\n",
       "      <td>120000.0</td>\n",
       "      <td>1800.0</td>\n",
       "      <td>100%</td>\n",
       "      <td>2023-12-01</td>\n",
       "      <td>100.0</td>\n",
       "    </tr>\n",
       "    <tr>\n",
       "      <th>2</th>\n",
       "      <td>P003</td>\n",
       "      <td>Site C</td>\n",
       "      <td>Delayed</td>\n",
       "      <td>200000.0</td>\n",
       "      <td>3000.0</td>\n",
       "      <td>50%</td>\n",
       "      <td>2024-01-20</td>\n",
       "      <td>50.0</td>\n",
       "    </tr>\n",
       "    <tr>\n",
       "      <th>3</th>\n",
       "      <td>P004</td>\n",
       "      <td>Site A</td>\n",
       "      <td>In Progress</td>\n",
       "      <td>160000.0</td>\n",
       "      <td>2600.0</td>\n",
       "      <td>80%</td>\n",
       "      <td>2024-01-20</td>\n",
       "      <td>80.0</td>\n",
       "    </tr>\n",
       "    <tr>\n",
       "      <th>4</th>\n",
       "      <td>P005</td>\n",
       "      <td>Site D</td>\n",
       "      <td>Completed</td>\n",
       "      <td>110000.0</td>\n",
       "      <td>1700.0</td>\n",
       "      <td>100%</td>\n",
       "      <td>2023-11-15</td>\n",
       "      <td>100.0</td>\n",
       "    </tr>\n",
       "  </tbody>\n",
       "</table>\n",
       "</div>"
      ],
      "text/plain": [
       "  Project_ID Site_Location Project_Status  Material_Cost  Labor_Hours  \\\n",
       "0       P001        Site A    In Progress       150000.0       2500.0   \n",
       "1       P002        Site B      Completed       120000.0       1800.0   \n",
       "2       P003        Site C        Delayed       200000.0       3000.0   \n",
       "3       P004        Site A    In Progress       160000.0       2600.0   \n",
       "4       P005        Site D      Completed       110000.0       1700.0   \n",
       "\n",
       "  Project_Progress Report_Date  Project_Progress_New  \n",
       "0              75%  2024-01-15                  75.0  \n",
       "1             100%  2023-12-01                 100.0  \n",
       "2              50%  2024-01-20                  50.0  \n",
       "3              80%  2024-01-20                  80.0  \n",
       "4             100%  2023-11-15                 100.0  "
      ]
     },
     "execution_count": 97,
     "metadata": {},
     "output_type": "execute_result"
    }
   ],
   "source": [
    "dfs.head()"
   ]
  },
  {
   "cell_type": "markdown",
   "metadata": {},
   "source": [
    "#### Provide a count of projects in each 'Project Status' (e.g., \"Completed\", \"In Progress\", \"Delayed\")."
   ]
  },
  {
   "cell_type": "code",
   "execution_count": 98,
   "metadata": {},
   "outputs": [
    {
     "data": {
      "text/html": [
       "<div>\n",
       "<style scoped>\n",
       "    .dataframe tbody tr th:only-of-type {\n",
       "        vertical-align: middle;\n",
       "    }\n",
       "\n",
       "    .dataframe tbody tr th {\n",
       "        vertical-align: top;\n",
       "    }\n",
       "\n",
       "    .dataframe thead th {\n",
       "        text-align: right;\n",
       "    }\n",
       "</style>\n",
       "<table border=\"1\" class=\"dataframe\">\n",
       "  <thead>\n",
       "    <tr style=\"text-align: right;\">\n",
       "      <th></th>\n",
       "      <th>Project_Status</th>\n",
       "      <th>Count</th>\n",
       "    </tr>\n",
       "  </thead>\n",
       "  <tbody>\n",
       "    <tr>\n",
       "      <th>0</th>\n",
       "      <td>Completed</td>\n",
       "      <td>28</td>\n",
       "    </tr>\n",
       "    <tr>\n",
       "      <th>1</th>\n",
       "      <td>Delayed</td>\n",
       "      <td>11</td>\n",
       "    </tr>\n",
       "    <tr>\n",
       "      <th>2</th>\n",
       "      <td>In Progress</td>\n",
       "      <td>61</td>\n",
       "    </tr>\n",
       "  </tbody>\n",
       "</table>\n",
       "</div>"
      ],
      "text/plain": [
       "  Project_Status  Count\n",
       "0      Completed     28\n",
       "1        Delayed     11\n",
       "2    In Progress     61"
      ]
     },
     "execution_count": 98,
     "metadata": {},
     "output_type": "execute_result"
    }
   ],
   "source": [
    "status_group = dfs.groupby('Project_Status').size().reset_index(name='Count')\n",
    "status_group"
   ]
  },
  {
   "cell_type": "code",
   "execution_count": 99,
   "metadata": {},
   "outputs": [
    {
     "data": {
      "image/png": "[encoded data removed]",
      "text/plain": [
       "<Figure size 640x480 with 1 Axes>"
      ]
     },
     "metadata": {},
     "output_type": "display_data"
    }
   ],
   "source": [
    "status_group.plot(kind='bar', color='steelblue')\n",
    "plt.title('Project Status Count')\n",
    "plt.xlabel('Status')\n",
    "plt.ylabel('Number of Projects')\n",
    "plt.grid(axis='y', linestyle='--', alpha=0.3)\n",
    "plt.xticks(rotation=0)\n",
    "plt.show()"
   ]
  },
  {
   "cell_type": "markdown",
   "metadata": {},
   "source": [
    "#### Monthly Trends: What are the total 'Material Cost' and 'Labor Hours' incurred each month, based on the 'Report Date'?"
   ]
  },
  {
   "cell_type": "code",
   "execution_count": 100,
   "metadata": {},
   "outputs": [
    {
     "data": {
      "text/html": [
       "<div>\n",
       "<style scoped>\n",
       "    .dataframe tbody tr th:only-of-type {\n",
       "        vertical-align: middle;\n",
       "    }\n",
       "\n",
       "    .dataframe tbody tr th {\n",
       "        vertical-align: top;\n",
       "    }\n",
       "\n",
       "    .dataframe thead th {\n",
       "        text-align: right;\n",
       "    }\n",
       "</style>\n",
       "<table border=\"1\" class=\"dataframe\">\n",
       "  <thead>\n",
       "    <tr style=\"text-align: right;\">\n",
       "      <th></th>\n",
       "      <th>Material_Cost</th>\n",
       "      <th>Labor_Hours</th>\n",
       "    </tr>\n",
       "    <tr>\n",
       "      <th>Report_Month</th>\n",
       "      <th></th>\n",
       "      <th></th>\n",
       "    </tr>\n",
       "  </thead>\n",
       "  <tbody>\n",
       "    <tr>\n",
       "      <th>2023-11</th>\n",
       "      <td>110000.00</td>\n",
       "      <td>1700.00</td>\n",
       "    </tr>\n",
       "    <tr>\n",
       "      <th>2023-12</th>\n",
       "      <td>120000.00</td>\n",
       "      <td>1800.00</td>\n",
       "    </tr>\n",
       "    <tr>\n",
       "      <th>2024-01</th>\n",
       "      <td>790000.00</td>\n",
       "      <td>12300.00</td>\n",
       "    </tr>\n",
       "    <tr>\n",
       "      <th>2024-02</th>\n",
       "      <td>1030000.00</td>\n",
       "      <td>15400.00</td>\n",
       "    </tr>\n",
       "    <tr>\n",
       "      <th>2024-03</th>\n",
       "      <td>1274898.99</td>\n",
       "      <td>20061.62</td>\n",
       "    </tr>\n",
       "    <tr>\n",
       "      <th>2024-04</th>\n",
       "      <td>1280000.00</td>\n",
       "      <td>19400.00</td>\n",
       "    </tr>\n",
       "    <tr>\n",
       "      <th>2024-05</th>\n",
       "      <td>1300000.00</td>\n",
       "      <td>19500.00</td>\n",
       "    </tr>\n",
       "    <tr>\n",
       "      <th>2024-06</th>\n",
       "      <td>1275000.00</td>\n",
       "      <td>18950.00</td>\n",
       "    </tr>\n",
       "    <tr>\n",
       "      <th>2024-07</th>\n",
       "      <td>1275000.00</td>\n",
       "      <td>18950.00</td>\n",
       "    </tr>\n",
       "    <tr>\n",
       "      <th>2024-08</th>\n",
       "      <td>1330000.00</td>\n",
       "      <td>19600.00</td>\n",
       "    </tr>\n",
       "    <tr>\n",
       "      <th>2024-09</th>\n",
       "      <td>1460000.00</td>\n",
       "      <td>21250.00</td>\n",
       "    </tr>\n",
       "    <tr>\n",
       "      <th>2024-10</th>\n",
       "      <td>1480000.00</td>\n",
       "      <td>21400.00</td>\n",
       "    </tr>\n",
       "    <tr>\n",
       "      <th>2024-11</th>\n",
       "      <td>1470000.00</td>\n",
       "      <td>21000.00</td>\n",
       "    </tr>\n",
       "    <tr>\n",
       "      <th>2024-12</th>\n",
       "      <td>1400000.00</td>\n",
       "      <td>20100.00</td>\n",
       "    </tr>\n",
       "    <tr>\n",
       "      <th>2025-01</th>\n",
       "      <td>1615000.00</td>\n",
       "      <td>22900.00</td>\n",
       "    </tr>\n",
       "    <tr>\n",
       "      <th>2025-02</th>\n",
       "      <td>1280000.00</td>\n",
       "      <td>17900.00</td>\n",
       "    </tr>\n",
       "    <tr>\n",
       "      <th>2025-03</th>\n",
       "      <td>1000000.00</td>\n",
       "      <td>13950.00</td>\n",
       "    </tr>\n",
       "  </tbody>\n",
       "</table>\n",
       "</div>"
      ],
      "text/plain": [
       "              Material_Cost  Labor_Hours\n",
       "Report_Month                            \n",
       "2023-11           110000.00      1700.00\n",
       "2023-12           120000.00      1800.00\n",
       "2024-01           790000.00     12300.00\n",
       "2024-02          1030000.00     15400.00\n",
       "2024-03          1274898.99     20061.62\n",
       "2024-04          1280000.00     19400.00\n",
       "2024-05          1300000.00     19500.00\n",
       "2024-06          1275000.00     18950.00\n",
       "2024-07          1275000.00     18950.00\n",
       "2024-08          1330000.00     19600.00\n",
       "2024-09          1460000.00     21250.00\n",
       "2024-10          1480000.00     21400.00\n",
       "2024-11          1470000.00     21000.00\n",
       "2024-12          1400000.00     20100.00\n",
       "2025-01          1615000.00     22900.00\n",
       "2025-02          1280000.00     17900.00\n",
       "2025-03          1000000.00     13950.00"
      ]
     },
     "execution_count": 100,
     "metadata": {},
     "output_type": "execute_result"
    }
   ],
   "source": [
    "\n",
    "dfs['Report_Month'] = dfs['Report_Date'].dt.to_period('M')\n",
    "trend = dfs.groupby('Report_Month')[['Material_Cost', 'Labor_Hours']].sum().round(2)\n",
    "trend"
   ]
  },
  {
   "cell_type": "code",
   "execution_count": 101,
   "metadata": {},
   "outputs": [
    {
     "data": {
      "image/png": "[encoded data removed]",
      "text/plain": [
       "<Figure size 1000x600 with 1 Axes>"
      ]
     },
     "metadata": {},
     "output_type": "display_data"
    }
   ],
   "source": [
    "line_colors = plt.cm.Blues(np.linspace(0.5, 0.9, 2))\n",
    "\n",
    "plt.figure(figsize=(10, 6))\n",
    "plt.plot(trend.index.astype(str), trend['Material_Cost'], label='Material Cost', marker='o', color=line_colors[0])\n",
    "plt.plot(trend.index.astype(str), trend['Labor_Hours'], label='Labor Hours', marker='s', color=line_colors[1])\n",
    "\n",
    "plt.title('Monthly Trend of Material Cost and Labor Hours')\n",
    "plt.xlabel('Report Month')\n",
    "plt.ylabel('Total')\n",
    "plt.xticks(rotation=45)\n",
    "plt.legend()\n",
    "plt.grid(True)\n",
    "plt.tight_layout()\n",
    "plt.show()"
   ]
  },
  {
   "cell_type": "markdown",
   "metadata": {},
   "source": [
    "#### Top 5 and Bottom 5 Projects: Based on a combined metric of 'Material Cost' and 'Labor Hours'"
   ]
  },
  {
   "cell_type": "code",
   "execution_count": 102,
   "metadata": {},
   "outputs": [],
   "source": [
    "avg_labor_hour = dfs['Labor_Hours'].mean().round(2)\n",
    "avg_material_cost = dfs['Material_Cost'].mean().round(2)\n",
    "avg_labor_rate = (avg_material_cost/avg_labor_hour).round(2)\n",
    "dfs['Total_Cost'] = (dfs['Material_Cost'] + dfs['Labor_Hours']) * avg_labor_rate\n",
    "top_5 = dfs.nlargest(5, 'Total_Cost')\n",
    "bottom_5 = dfs.nsmallest(5, 'Total_Cost')"
   ]
  },
  {
   "cell_type": "code",
   "execution_count": 103,
   "metadata": {},
   "outputs": [
    {
     "data": {
      "text/html": [
       "<div>\n",
       "<style scoped>\n",
       "    .dataframe tbody tr th:only-of-type {\n",
       "        vertical-align: middle;\n",
       "    }\n",
       "\n",
       "    .dataframe tbody tr th {\n",
       "        vertical-align: top;\n",
       "    }\n",
       "\n",
       "    .dataframe thead th {\n",
       "        text-align: right;\n",
       "    }\n",
       "</style>\n",
       "<table border=\"1\" class=\"dataframe\">\n",
       "  <thead>\n",
       "    <tr style=\"text-align: right;\">\n",
       "      <th></th>\n",
       "      <th>Project_ID</th>\n",
       "      <th>Site_Location</th>\n",
       "      <th>Project_Progress</th>\n",
       "    </tr>\n",
       "  </thead>\n",
       "  <tbody>\n",
       "    <tr>\n",
       "      <th>114</th>\n",
       "      <td>P100</td>\n",
       "      <td>Site H</td>\n",
       "      <td>90%</td>\n",
       "    </tr>\n",
       "    <tr>\n",
       "      <th>105</th>\n",
       "      <td>P092</td>\n",
       "      <td>Site H</td>\n",
       "      <td>85%</td>\n",
       "    </tr>\n",
       "    <tr>\n",
       "      <th>96</th>\n",
       "      <td>P084</td>\n",
       "      <td>Site H</td>\n",
       "      <td>80%</td>\n",
       "    </tr>\n",
       "    <tr>\n",
       "      <th>87</th>\n",
       "      <td>P076</td>\n",
       "      <td>Site H</td>\n",
       "      <td>75%</td>\n",
       "    </tr>\n",
       "    <tr>\n",
       "      <th>78</th>\n",
       "      <td>P068</td>\n",
       "      <td>Site H</td>\n",
       "      <td>70%</td>\n",
       "    </tr>\n",
       "  </tbody>\n",
       "</table>\n",
       "</div>"
      ],
      "text/plain": [
       "    Project_ID Site_Location Project_Progress\n",
       "114       P100        Site H              90%\n",
       "105       P092        Site H              85%\n",
       "96        P084        Site H              80%\n",
       "87        P076        Site H              75%\n",
       "78        P068        Site H              70%"
      ]
     },
     "execution_count": 103,
     "metadata": {},
     "output_type": "execute_result"
    }
   ],
   "source": [
    "top_5[['Project_ID', 'Site_Location', 'Project_Progress']]"
   ]
  },
  {
   "cell_type": "code",
   "execution_count": 104,
   "metadata": {},
   "outputs": [
    {
     "data": {
      "text/html": [
       "<div>\n",
       "<style scoped>\n",
       "    .dataframe tbody tr th:only-of-type {\n",
       "        vertical-align: middle;\n",
       "    }\n",
       "\n",
       "    .dataframe tbody tr th {\n",
       "        vertical-align: top;\n",
       "    }\n",
       "\n",
       "    .dataframe thead th {\n",
       "        text-align: right;\n",
       "    }\n",
       "</style>\n",
       "<table border=\"1\" class=\"dataframe\">\n",
       "  <thead>\n",
       "    <tr style=\"text-align: right;\">\n",
       "      <th></th>\n",
       "      <th>Project_ID</th>\n",
       "      <th>Site_Location</th>\n",
       "      <th>Project_Progress</th>\n",
       "    </tr>\n",
       "  </thead>\n",
       "  <tbody>\n",
       "    <tr>\n",
       "      <th>16</th>\n",
       "      <td>P014</td>\n",
       "      <td>Site G</td>\n",
       "      <td>100%</td>\n",
       "    </tr>\n",
       "    <tr>\n",
       "      <th>25</th>\n",
       "      <td>P021</td>\n",
       "      <td>Site G</td>\n",
       "      <td>95%</td>\n",
       "    </tr>\n",
       "    <tr>\n",
       "      <th>10</th>\n",
       "      <td>P010</td>\n",
       "      <td>Site D</td>\n",
       "      <td>90%</td>\n",
       "    </tr>\n",
       "    <tr>\n",
       "      <th>33</th>\n",
       "      <td>P028</td>\n",
       "      <td>Site G</td>\n",
       "      <td>98%</td>\n",
       "    </tr>\n",
       "    <tr>\n",
       "      <th>41</th>\n",
       "      <td>P035</td>\n",
       "      <td>Site G</td>\n",
       "      <td>100%</td>\n",
       "    </tr>\n",
       "  </tbody>\n",
       "</table>\n",
       "</div>"
      ],
      "text/plain": [
       "   Project_ID Site_Location Project_Progress\n",
       "16       P014        Site G             100%\n",
       "25       P021        Site G              95%\n",
       "10       P010        Site D              90%\n",
       "33       P028        Site G              98%\n",
       "41       P035        Site G             100%"
      ]
     },
     "execution_count": 104,
     "metadata": {},
     "output_type": "execute_result"
    }
   ],
   "source": [
    "bottom_5[['Project_ID', 'Site_Location', 'Project_Progress']]"
   ]
  },
  {
   "cell_type": "code",
   "execution_count": 105,
   "metadata": {},
   "outputs": [],
   "source": [
    "insights = pd.DataFrame({\n",
    "    'Metric': [\n",
    "        'Site with Highest Avg Material Cost',\n",
    "        'Highest Avg Material Cost',\n",
    "        'Site with Lowest Avg Material Cost',\n",
    "        'Lowest Avg Material Cost',\n",
    "        'Labor Hours vs Project Progress (Correlation)'\n",
    "    ],\n",
    "    'Value': [\n",
    "        max_average_site,\n",
    "        max_cost,\n",
    "        min_average_site,\n",
    "        min_cost,\n",
    "        labour_project_corr\n",
    "    ]\n",
    "})"
   ]
  },
  {
   "cell_type": "code",
   "execution_count": 106,
   "metadata": {},
   "outputs": [],
   "source": [
    "# === Export to Excel ===\n",
    "with pd.ExcelWriter('cleaned_construction_data.xlsx', engine='xlsxwriter') as writer:\n",
    "    dfs.to_excel(writer, sheet_name='Cleaned_Data', index=False)\n",
    "    insights.to_excel(writer, sheet_name='Analysis_Insights', index=False)\n",
    "    \n",
    "    # Export trend and project status on same sheet for clarity\n",
    "    trend.to_excel(writer, sheet_name='Analysis_Insights', startrow=len(insights)+3)\n",
    "    status_group.to_excel(writer, sheet_name='Analysis_Insights', startrow=len(insights)+len(trend)+6)\n",
    "    \n",
    "    # Export top & bottom projects\n",
    "    top_5.to_excel(writer, sheet_name='Top_Bottom_Projects', index=False, startrow=0)\n",
    "    bottom_5.to_excel(writer, sheet_name='Top_Bottom_Projects', index=False, startrow=top_5.shape[0] + 3)"
   ]
  },
  {
   "cell_type": "code",
   "execution_count": null,
   "metadata": {},
   "outputs": [],
   "source": []
  },
  {
   "cell_type": "code",
   "execution_count": null,
   "metadata": {},
   "outputs": [],
   "source": []
  }
 ],
 "metadata": {
  "kernelspec": {
   "display_name": "Python 3 (ipykernel)",
   "language": "python",
   "name": "python3"
  },
  "language_info": {
   "codemirror_mode": {
    "name": "ipython",
    "version": 3
   },
   "file_extension": ".py",
   "mimetype": "text/x-python",
   "name": "python",
   "nbconvert_exporter": "python",
   "pygments_lexer": "ipython3",
   "version": "3.11.0"
  }
 },
 "nbformat": 4,
 "nbformat_minor": 4
}
